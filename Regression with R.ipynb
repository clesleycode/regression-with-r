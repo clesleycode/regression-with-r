{
 "cells": [
  {
   "cell_type": "markdown",
   "metadata": {},
   "source": [
    "# Setup\n",
    "\n",
    "This guide was written in R\n"
   ]
  },
  {
   "cell_type": "markdown",
   "metadata": {},
   "source": [
    "# Introduction\n",
    "\n",
    "Regression Analysis is a predictive modeling technique for figuring out the relationship between a dependent and independent variable. This is used for forecasting, time series modeling, among others. \n"
   ]
  },
  {
   "cell_type": "markdown",
   "metadata": {},
   "source": [
    "# Linear Regression\n",
    "\n",
    "In Linear Regression, the dependent variable is continuous, and the independent variable(s) can be continuous or discrete, while nature of regression line is **linear**. Linear Regression establishes a relationship between the dependent variable (Y) and one or more independent variables (X), using a best fit straight line also known as regression line.\n",
    "\n",
    "If the data actually lies on a line, then two sample points will be enough to get a perfect prediction. But, as in the example below, the input data is seldom perfect, so our “predictor” is almost always off by a bit. In this image, it's clear that only a small fraction of the data points appear to lie on the line itself.\n",
    "\n",
    "![alt text](https://github.com/lesley2958/regression/blob/master/linreg.png?raw=true \"Logo Title Text 1\")\n",
    "\n",
    "It's obvious that we can't assume a perfect prediction based off of data like this, so instead we wish to summarize the trends in the data using a simple description mechanism. In this case, that mechanism is a *line*. Now the computation required to find the “best” coefficients of the line is straightforward once we pick a suitable definition of “best”. *This is what we mean by best fit line.* \n",
    "\n",
    "\n",
    "## Basic Equation\n",
    "\n",
    "The variable that we want to predict, `y`, is called the independent variable. We can collect values of y for known values of x to derive the co-efficient and y-intercept of the model using certain assumptions. The equation looks like below:\n",
    "\n",
    "``` \n",
    "y = a + bx + e\n",
    "```\n",
    "\n",
    "Here, `a` is the y-intercept, `b` is the slope of the line, and `e` is the error term. Usually we don't know the error term, so we reduce this equation to:\n",
    "\n",
    "```\n",
    "y = a + bx\n",
    "```\n",
    "\n",
    "## Error Term\n",
    "\n",
    "The difference between the observed value of the dependent variable and the predicted value is called the error term, or residual. Each data point has *its own* residual.\n",
    "\n",
    "When a residual plot shows a random pattern, it indicated a good fit for a linear model. The error, or loss, function specifics depends on the type of machine learning algorithm. In Regression, it's (y - y&#770;)<sup>2</sup>, known as the <b>squared</b> loss. Note that the loss function is something that you must decide on based on the goals of learning. "
   ]
  },
  {
   "cell_type": "markdown",
   "metadata": {},
   "source": [
    "## Variance\n",
    "\n",
    "Recall that variance gives us an idea of the range or spread of our data and that we denote this value as &sigma;<sup>2</sup>. In the context of regression, this matters because it gives us an idea of how accurate our model is.\n",
    "\n",
    "For example, given the two graphs below, we can see that the second graph would be a more accurate model. \n",
    "\n",
    "![alt text](https://github.com/lesley2958/regression/blob/master/ther1.jpeg?raw=true \"Logo Title Text 1\")\n",
    "\n",
    "![alt text](https://github.com/lesley2958/regression/blob/master/ther2.jpeg?raw=true \"Logo Title Text 1\")\n",
    "\n",
    "To figure out how precise future predictions will be, we then need to see how much the outputs very around the mean population regression line. Unfortunately, as &sigma;<sup>2</sup> is a population parameter, so we will rarely know its true value - that means we have to estimate it. "
   ]
  },
  {
   "cell_type": "markdown",
   "metadata": {},
   "source": [
    "## Assumptions\n",
    "\n",
    "There are four assumptions that allow for the use of linear regression models. If any of these assumptions is violated, then the forecasts, confidence intervals, and insights yielded by a regression model may be inefficient, biased, or misleading. \n",
    "\n",
    "### Linearity\n",
    "\n",
    "The first assumption is the linearity and additivity between dependent and independent variables. Because of this assumption, the expected value of dependent variable is a straight-line function of each independent variable, holding the others fixed. Lastly, the slope of this doesn't depend on the other variables. \n",
    "\n",
    "### Statistical Independence\n",
    "\n",
    "The statistical independence of the errors means there is no correlation between consecutive errors.\n",
    "\n",
    "### Homoscedasticity\n",
    "\n",
    "This refers to the idea that there is a constant variance of errors. This is true against time, predictions, and any independent variable. \n",
    "\n",
    "### Error Distribution\n",
    "\n",
    "This says that the distribution of errors is normal.\n"
   ]
  },
  {
   "cell_type": "markdown",
   "metadata": {},
   "source": [
    "## Disadvantages\n",
    "\n",
    "First, if the data doesn't follow the normal distribution, the validity of the regression model suffers. \n",
    "\n",
    "Secondly, there can be collinearity problems, meaning if two or more independent variables are strongly correlated, they will eat into each other's predictive power. \n",
    "\n",
    "Thirdly, if a large number of variables are included, the model may become unreliable. Regressions doesn't automatically take care of collinearity.\n",
    "\n",
    "Lastly, regression doesn’t work with categorical variables with multiple values. These variables need to be converted to other variables before using them in regression models."
   ]
  },
  {
   "cell_type": "markdown",
   "metadata": {},
   "source": [
    "## Example 1\n",
    "\n",
    "This example uses the first feature of the diabetes dataset to illustrate a two-dimensional plot of the linear regression technique. The straight line can be seen in the plot, showing how linear regression attempts to draw a straight line that will best minimize the sum of squares between the observed responses in the dataset, and the responses predicted by the linear approximation.\n",
    "\n",
    "First, we input the needed modules and load the diabetes dataset:"
   ]
  },
  {
   "cell_type": "code",
   "execution_count": null,
   "metadata": {
    "collapsed": true
   },
   "outputs": [],
   "source": []
  },
  {
   "cell_type": "markdown",
   "metadata": {},
   "source": [
    "### Metrics\n",
    "\n",
    "For regression, we use the **Sum of Squared Error**, which is the following formula:\n",
    "\n",
    "$$ \\sum_j \\left[f(X_{j \\cdot}) - y_j\\right]^2. $$\n",
    "\n",
    "\n",
    "In Python, you can compute this with `numpy` and built-in mathematical operators:"
   ]
  },
  {
   "cell_type": "markdown",
   "metadata": {},
   "source": [
    "However, you can also use the methods provided by `sklearn` to compute the mean squared error. "
   ]
  },
  {
   "cell_type": "markdown",
   "metadata": {},
   "source": [
    "Sum of Squared Error, however, is sensitive to outliers. So whenever this is an issue, we use the **Absolute Error** instead:\n",
    "\n",
    "$$ \\sum_j \\left|f(X_{j \\cdot}) - y_j\\right|. $$\n",
    "\n",
    "In Python, this looks very similar to the `mean_squared_error` function call:"
   ]
  },
  {
   "cell_type": "markdown",
   "metadata": {},
   "source": [
    "Now let's see what the variance is: "
   ]
  },
  {
   "cell_type": "markdown",
   "metadata": {},
   "source": [
    "And finally, let's plot the outputs of the test data:"
   ]
  },
  {
   "cell_type": "markdown",
   "metadata": {},
   "source": [
    "Let's see what we get! "
   ]
  },
  {
   "cell_type": "markdown",
   "metadata": {},
   "source": [
    "## Non Linear Regression\n",
    "\n",
    "Non-linear regression analysis uses a curved function, usually a polynomial, to capture the non-linear relationship between the two variables. The regression is often constructed by optimizing the parameters of a higher-order polynomial such that the line best fits a sample of (x, y) observations.\n",
    "\n",
    "There are cases where non-linear models are <b>intrinsically linear</b>, meaning they can be made linear by simple transformation. But more interestingly, are the ones where it can't.\n",
    "\n",
    "While a polynomial regression might seem like the best option to produce a low error, it's important to be aware of the possibility of overfitting your data. Always plot the relationships to see the fit and focus on making sure that the curve fits the nature of the problem. \n",
    "\n",
    "![alt text](https://github.com/lesley2958/regression/blob/master/und-over.png?raw=true \"Logo Title Text 1\")\n",
    "\n",
    "\n",
    "### Start Values\n",
    "\n",
    "Finding good starting values is very important in non-linear regression to allow the model algorithm to converge. If you set starting parameters values completely outside of the range of potential parameter values the algorithm will either fail or it will return non-sensical parameter like for example returning a growth rate of 1000 when the actual value is 1.04.\n",
    "\n",
    "The best way to find correct starting value is to eyeball the data, plotting them and based on the understanding that you have from the equation find approximate starting values for the parameters.\n"
   ]
  },
  {
   "cell_type": "markdown",
   "metadata": {
    "collapsed": true
   },
   "source": [
    "### Example 1\n",
    "\n",
    "We begin by loading in the needed modules and data: "
   ]
  },
  {
   "cell_type": "markdown",
   "metadata": {},
   "source": [
    "# Multiple Linear Regression\n",
    "\n",
    "Multiple linear regression is similar to simple linear regression, the only difference being the use of more than one input variable. This means we get a basic equation that's slightly different from linear regression.\n",
    "\n",
    "\n",
    "## Basic Equation\n",
    "\n",
    "In multiple linear regression, there is more than one explanatory variable. The basic equation we've seen before becomes:\n",
    "\n",
    "Y<sub>i</sub> = m<sub>0</sub> + m<sub>1X</sub>1i</sub> + m<sub>2</sub>X<sub>2i</sub> + &isin;<sub>i</sub>\n",
    "\n",
    "where &isin;<sub>i</sub> are independent random variables with a mean of 0. \n",
    "\n",
    "## Assumptions\n",
    "\n",
    "The assumptions are the same as for simple regression.\n",
    "\n",
    "## Mutlicollinearity\n",
    "\n",
    "Recall, multicollinearity occurs when two or more variables are related. The best way of dealing with multicollinearity is to understand the cause and remove it. If one of the variables appears to be redundant, removing it can reduce multicollinearity. To make this decision, examine the correlations between variables.\n",
    " \n",
    "Other strategies include:\n",
    "\n",
    "- Figuring out if there is a way to combine the variables.\n",
    "- Increasing the sample size of your study. \n",
    "- Centering the variables by computing the mean of each independent variable and then replacing each value with the difference between it and the mean."
   ]
  },
  {
   "cell_type": "markdown",
   "metadata": {},
   "source": [
    "## Example 1\n",
    "\n",
    "Here, we import our `scikit-learn` module and declare our input data, X and Y, as lists:"
   ]
  },
  {
   "cell_type": "markdown",
   "metadata": {},
   "source": [
    "## Logistic Regression\n",
    "\n",
    "Logistic Regression is a statistical technique capable of predicting a <b>binary</b> outcome. Its output is a continuous range of values between 0 and 1, commonly representing the probability of some event occurring. Logistic regression is fairly intuitive and very effective - we'll review the details now."
   ]
  },
  {
   "cell_type": "markdown",
   "metadata": {},
   "source": [
    "### Example 1\n",
    "\n",
    "Here, we'll use the Iris dataset from the Scikit-learn datasets module. We'll use 2 of the classes to keep this binary. \n",
    "\n",
    "First, let's begin by importing the needed modules and dataset: "
   ]
  },
  {
   "cell_type": "code",
   "execution_count": null,
   "metadata": {
    "collapsed": true
   },
   "outputs": [],
   "source": []
  },
  {
   "cell_type": "markdown",
   "metadata": {},
   "source": [
    "### Cost Function \n",
    "\n",
    "We want to choose Î² values to maximize the probability of correctly classifying our plants. If we assume our data are independent and identically distributed (iid), we can take the product of all our individually calculated probabilities and that is the value we want to maximize. We get the following formula:\n",
    "\n",
    "![alt text](https://github.com/lesley2958/regression/blob/master/cost-logistic.png?raw=true \"Logo Title Text 1\")\n",
    "\n",
    "This simplifies to: &prod;<sub>setosa</sub> h(x) &prod;<sub>versicolor</sub> 1 - h(x). So now we know what to maximize. We can also switch it to - &prod;<sub>setosa</sub> h(x) &prod;<sub>versicolor</sub> 1 - h(x) and minimize this since minimizing the negative is the same as maximizing the positive. \n",
    "\n",
    "We can implement this logistic function like this:"
   ]
  },
  {
   "cell_type": "markdown",
   "metadata": {},
   "source": [
    "### Gradients\n",
    "\n",
    "We now know what value to minimize, but now we need to figure out how to find the &beta; values. This is where convex optimization comes in. \n",
    "\n",
    "Since we know the logistic cost function is convex, it has a single global minimum which we can converge using gradient descent. \n",
    "\n",
    "The idea behind gradient descent is to pick a point on the curve and follow it down to the minimum. The way we follow the curve is by calculating the gradients or the first derivatives of the cost function with respect to each &beta;.\n",
    "\n",
    "Now if we define y<sub>i</sub> to be 1 for sentose and 0 for when it's versicolor, then we can simplify to h(x) and 1 - h(x). Recall [log rules](http://www.mathwords.com/l/logarithm_rules.htm). If we take the log of our cost function, our product becomes a sum:\n",
    "\n",
    "![alt text](https://github.com/lesley2958/regression/blob/master/cost%20funct%202.png?raw=true \"Logo Title Text 1\")\n",
    "\n",
    "The next step is to take the derivative with respect to &beta;<sub>0</sub>. Remembering that the derivate of log(x) is 1/x, we get:\n",
    "\n",
    "$$ \\frac{y_i}{h(x_i)} + \\frac{1 - y_i}{1-h(x_i)} $$\n",
    "\n",
    "We have to take the derivative of h(x), which we can do with the quotient rule to see that it's: \n",
    "\n",
    "$$ \\frac{e^{-x}}{(1+e^{-x})^2} $$\n",
    "\n",
    "$$ = \\frac{1}{1+e^{-x}} (1 - \\frac{1}{1+e^{-x}} $$\n",
    "\n",
    "$$ = h(x)(1-h(x)) $$\n",
    "\n",
    "Since the derivative of x with respect to &beta;<sub>0</sub> is just 1, we can put all of this together to get: \n",
    "\n",
    "$$ \\frac{y_i h(x_i)(1-h(x_i))}{h(x_i)} - \\frac{(1 - y_i)h(x_i)(1-h(x_i))}{1 - h(x_i)} $$\n",
    "\n",
    "Now we can simplify this to \n",
    "\n",
    "$$ y_i(1 - h(x_i)) - (1-y_i)h(x_i) $$ \n",
    "\n",
    "$$ = y_i - y_i h(x_i) - h(x_i) + y_i h(x_i) $$\n",
    "\n",
    "$$ = y_i - h(x_i) $$\n",
    "\n",
    "So finally we get: \n",
    "\n",
    "$$ \\Sigma_{i=1}^{100} h(x_i) - y_i $$\n",
    "\n",
    "For $\\beta_1$, we get:\n",
    "\n",
    "$$ \\Sigma_{i=1}^{100} (h(x_i) - y_i) SW_i $$\n",
    "\n",
    "For $\\beta_2$, we get: \n",
    "\n",
    "$$ \\Sigma_{i=1}^{100} (h(x_i) - y_i) SL_i $$"
   ]
  },
  {
   "cell_type": "markdown",
   "metadata": {},
   "source": [
    "In Python, we can write:"
   ]
  },
  {
   "cell_type": "markdown",
   "metadata": {},
   "source": [
    "### Gradient Descent\n",
    "\n",
    "So now that we have our gradients, we can use the gradient descent algorithm to find the values for our &beta;s that minimize our cost function. The algorithm is as follows:\n",
    "\n",
    "1. Initially guess any values for &beta;\n",
    "2. Repeat until we converge: &beta;<sub>i</sub> = &beta;<sub>i</sub>-(&alpha;* gradient with respect to &beta;<sub>i</sub>) for i = 0, 1, 2\n",
    "\n",
    "Note that &alpha; is our learning rate, which is the rate at which we move towards our cost curve. \n",
    "\n",
    "Basically, we pick a random point on our cost curve, check to see which direction we need to go to get closer to the minimum by using the negative of the gradient, and then update our &beta; values to move closer to the minimum.\n",
    "\n",
    "If we implement this all in python, we would get something like:"
   ]
  },
  {
   "cell_type": "markdown",
   "metadata": {},
   "source": [
    "### Prediction\n",
    "\n",
    "The goal to this entire exercise was to show how Logistic Regression can be used for prediction. We went through the process of implementing a cost function, gradient descent -- now we have to put it all together to predict the values!\n",
    "\n",
    "Let's walk through this code: \n"
   ]
  },
  {
   "cell_type": "markdown",
   "metadata": {},
   "source": [
    "Here I use the above code. I initalize our Î² values to zeros and then run gradient descent to learn these values.\n"
   ]
  },
  {
   "cell_type": "markdown",
   "metadata": {},
   "source": [
    "## Time Series\n",
    "\n",
    "A time series is a set of observations of a single variable at multiple different points in time. Time series data is different in that these observations <i>are</i> dependent on another variable. For example, the stock price of Microsoft today <i>is</i> related to the stock price yesterday.\n",
    "\n",
    "### Stationarity \n",
    "\n",
    "A process is said to be <b>stationary</b> if the distribution of the observed values does <i>not</i> depend on time. For a stationary process, what we want is the distribution of the observed variable to be independent of time, so the mean and variance of our observations should be constant over time.\n",
    "\n",
    "If we take the trends out of data, we can make it stationary, which then allows us to properly run regressions against other variables. Otherwise we would risk results that conflate the time trend with the effect of the other variables.  We can make data stationary by taking differences of the observations. \n",
    "\n",
    "### Autoregressive Model\n",
    "\n",
    "In an autoregressive model, the response variable is regressed against previous values from the same time series. We say that a process if AR(1) if only the previous observed value is used. A process that uses the previous p values is called AR(p). A classic example of an AR(1) process is a random walk. In a random walk, a \"walker\" has an equal chance of stepping left or stepping right.\n",
    "\n",
    "### Moving Average Model\n",
    "\n",
    "A moving average model is similar to an autoregressive model except that instead of being based on the previous observed values, the model describes a relationship between an observation and the previous error terms. We say that a process is MA(1) if only the previous observed value is used. A process that uses the previous p values is called MA(p).\n",
    "\n",
    "### Analysis\n",
    "\n",
    "The New York Independent System Operator (NYISO) operates competitive wholesale markets to manage the flow of electricity across New York. We will be using this data, along with weather forecasts, to create a model that predicts electricity prices.\n",
    "\n",
    "We begin by importing the needed modules and load the data:"
   ]
  },
  {
   "cell_type": "markdown",
   "metadata": {},
   "source": [
    "## Stepwise Regression\n",
    "\n",
    "This form of regression is used when we deal with multiple independent variables. In this technique, the selection of independent variables is done with the help of an automatic process, which involves no human intervention.\n",
    "\n",
    "Stepwise Regression is sensitive to initial inputs, which can be mitigated by repeatedly running the algorithm on bootstrap samples.\n",
    "\n",
    "### Bootstrap\n",
    "\n",
    "R has a package called `bootStepAIC()` that implements a Bootstrap procedure to investigate the variability of model selection with the function `stepAIC()`.\n",
    "\n",
    "Using the `stepAIC()` function, you can input an already fitted lm/glm model and the associated dataset. Weâ€™ll use the BostonHousing dataset from the mlbench package to showcase this:"
   ]
  },
  {
   "cell_type": "code",
   "execution_count": 8,
   "metadata": {},
   "outputs": [],
   "source": [
    "library(bootStepAIC)\n",
    "library(plotly)\n",
    "library(mlbench)\n",
    " \n",
    "# Load Boston housing dataset\n",
    "data(\"BostonHousing\")\n",
    " \n",
    "# Fit Linear regression model\n",
    "fit <- lm(crim ~ ., data = BostonHousing)\n",
    " \n",
    "# Run bootstrapped stepwise regression\n",
    "fit.boot <- boot.stepAIC(fit, data = BostonHousing, B = 100)"
   ]
  },
  {
   "cell_type": "markdown",
   "metadata": {},
   "source": [
    "This gives us the following information:\n",
    "\n",
    "- No of times a covariate was featured in the final model from `stepAIC()`\n",
    "- No of times a covariate's coefficient sign was positive / negative\n",
    "- No of times a covariate was statistically significant (default at alpha = 5%)\n",
    "\n",
    "\n",
    "\n",
    "We do this by observing statistical values like R-square, t-stats, and AIC metric to discern significant variables. Stepwise regression basically fits the regression model by adding/dropping co-variates one at a time based on a specified criterion. Some of the most commonly used Stepwise regression methods are:\n",
    "\n",
    "- Standard stepwise regression does two things: it adds and removes predictors as needed for each step.\n",
    "- Forward selection starts with most significant predictor in the model and adds variable for each step.\n",
    "- Backward elimination starts with all predictors in the model and removes the least significant variable for each step.\n",
    "\n",
    "The aim of this modeling technique is to maximize the prediction power with minimum number of predictor variables. It is one of the methods to handle higher dimensionality of data set.\n"
   ]
  },
  {
   "cell_type": "markdown",
   "metadata": {},
   "source": [
    "## Ridge and Lasso Regression\n",
    "\n",
    "Ridge and Lasso regression are powerful techniques used for making efficient models with a large number of features. They work by penalizing the magnitude of coefficients of features along with minimizing the error between predicted and actual observations. These are called <b>regularization</b> techniques.\n",
    "\n",
    "Ridge Regression specifically performs <b>L2</b> regularization, which means that it adds penalty equality to the <i>square</i> of magnitude of coefficients.\n",
    "\n",
    "Lasso Regression, on the other hand, performs <b>L1</b> Regression, which means that it adds penalty equivalent to the <i>absolute</i> value of magnitude of coefficients.\n",
    "\n",
    "\n",
    "### Penalization \n",
    "\n",
    "Lets try to understand the impact of model complexity on the magnitude of coefficients. As an example, I have simulated a sine curve (between 60° and 300°) and added some random noise using the following code:"
   ]
  },
  {
   "cell_type": "markdown",
   "metadata": {},
   "source": [
    "### Ridge Regression\n",
    "\n",
    "Recall, ridge regression performs <b>L2 </b>regularization, i.e. it adds a factor of sum of squares of coefficients in the optimization objective, so it ends up optimizing:\n",
    "\n",
    "```\n",
    "Objective = RSS + $\\alpha$ * (sum of square of coefficients)\n",
    "```\n",
    "\n",
    "Here, $\\alpha$ is the parameter which balances the amount of emphasis given to minimizing RSS vs minimizing sum of square of coefficients. $\\alpha$ can take various values:\n",
    "\n",
    "$\\alpha$ = 0:\n",
    "- The objective becomes the same as simple linear regression.\n",
    "- We'll get the same coefficients as simple linear regression.\n",
    "\n",
    "$\\alpha$ = $\\infty$:\n",
    "- The coefficients will be zero. Why? Because of infinite weightage on square of coefficients, anything less than zero will make the objective infinite.\n",
    "\n",
    "0 < $\\alpha$ < $\\infty$:\n",
    "- The magnitude of $\\alpha$ will decide the weightage given to different parts of objective.\n",
    "- The coefficients will be somewhere between 0 and ones for simple linear regression\n",
    "\n",
    "This tells us that any non-zero value would give values less than that of simple linear regression. Let's define a generic function for ridge regression similar to the one defined for simple linear regression:\n"
   ]
  },
  {
   "cell_type": "code",
   "execution_count": null,
   "metadata": {
    "collapsed": true
   },
   "outputs": [],
   "source": []
  },
  {
   "cell_type": "markdown",
   "metadata": {},
   "source": [
    "Ridge Regression is a technique used when the data suffers from multicollinearity (independent variables are highly correlated). In multicollinearity, even though the least squares estimates are unbiased, their variances are large which deviates the observed value far from the true value. By adding a degree of bias to the regression estimates, ridge regression reduces the standard errors.\n",
    "\n",
    "Ridge regression solves the multicollinearity problem through shrinkage parameter &lambda;, shown below:\n",
    "\n",
    "![alt text](https://github.com/lesley2958/regression/blob/master/ridge.png?raw=true \"Logo Title Text 1\")\n",
    "\n",
    "In this equation, we have two components. First, is the least square term and other is lambda of the summation of $\\beta_2$ (beta- square) where $\\beta$ is the coefficient. This is added to least square term in order to shrink the parameter to have a very low variance.\n"
   ]
  },
  {
   "cell_type": "markdown",
   "metadata": {},
   "source": [
    "### Assumptions\n",
    "\n",
    "The assumptions of this regression is same as least squared regression, except normality is not to be assumed."
   ]
  },
  {
   "cell_type": "code",
   "execution_count": null,
   "metadata": {
    "collapsed": true
   },
   "outputs": [],
   "source": []
  }
 ],
 "metadata": {
  "kernelspec": {
   "display_name": "R",
   "language": "R",
   "name": "ir"
  },
  "language_info": {
   "codemirror_mode": "r",
   "file_extension": ".r",
   "mimetype": "text/x-r-source",
   "name": "R",
   "pygments_lexer": "r",
   "version": "3.4.1"
  }
 },
 "nbformat": 4,
 "nbformat_minor": 2
}
